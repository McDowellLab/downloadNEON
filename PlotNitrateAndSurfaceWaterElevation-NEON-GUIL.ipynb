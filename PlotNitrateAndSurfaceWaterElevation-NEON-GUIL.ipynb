{
 "cells": [
  {
   "cell_type": "markdown",
   "metadata": {},
   "source": [
    "## Load libraries, plotly for graphics, pandas for dataframes"
   ]
  },
  {
   "cell_type": "code",
   "execution_count": null,
   "metadata": {},
   "outputs": [],
   "source": [
    "import csv\n",
    "import plotly.graph_objects  as go\n",
    "import plotly\n",
    "import plotly.express as px\n",
    "from plotly.subplots import make_subplots\n",
    "import pandas as pd\n",
    "import numpy as np\n",
    "from sklearn import preprocessing"
   ]
  },
  {
   "cell_type": "markdown",
   "metadata": {},
   "source": [
    "Load data from CSV files for from NEON for Rio Guilarte, PR. "
   ]
  },
  {
   "cell_type": "code",
   "execution_count": null,
   "metadata": {},
   "outputs": [],
   "source": [
    "\n",
    "\n",
    "filedirout = './water/'\n",
    "dfGUILst = pd.read_csv(filedirout + 'GUILStage.csv', low_memory=False)\n",
    "\n",
    "\n",
    "min_max_scaler = preprocessing.MinMaxScaler()\n",
    "\n",
    "\n",
    "dfGUILst['surfWaterWaterElevationAvg'] = pd.to_numeric(dfGUILst['surfWaterWaterElevationAvg'], errors='coerce')\n",
    "\n",
    "\n",
    "dfGUILst['surfWaterWaterElevationNrml'] =(dfGUILst['surfWaterWaterElevationNrmlAvg']-\n",
    "                                            dfGUILst['surfWaterWaterElevationNrmlAvg'].mean()\n",
    "                                            )/dfGUILst['surfWaterWaterElevationNrmlAvg'].std()\n",
    "dfCUPEst['surfWaterWaterElevationNrml'] =(dfCUPEst['surfWaterWaterElevationNrmlAvg']-\n",
    "                                            dfCUPEst['surfWaterWaterElevationNrmlAvg'].mean()\n",
    "                                            )/dfCUPEst['surfWaterWaterElevationNrmlAvg'].std()\n",
    "# dfHOPBst['surfWaterWaterElevationNrml'] = min_max_scaler.fit_transform(dfHOPBst['surfWaterWaterElevationNrmlAvg'])\n",
    "# dfGUILst['surfWaterWaterElevationNrml'] = min_max_scaler.fit_transform(dfGUILst['surfWaterWaterElevationNrmlAvg'])\n",
    "# dfCUPEst['surfWaterWaterElevationNrml'] = min_max_scaler.fit_transform(dfCUPEst['surfWaterWaterElevationNrmlAvg'])\n",
    "\n",
    "# data_frames = [dfARIKst, dfHOPBst, dfGUILst,dfCUPEst]\n",
    "# df_merged = pd.concat(data_frames)\n",
    "\n",
    "filedirout = './water/'\n",
    "dfARIK = pd.read_csv(filedirout + 'ARIKNo3.csv', low_memory=False)\n",
    "dfHOPB = pd.read_csv(filedirout + 'HOPBno3.csv', low_memory=False)\n",
    "dfGUIL = pd.read_csv(filedirout + 'GUILno3.csv', low_memory=False)\n",
    "dfCUPE = pd.read_csv(filedirout + 'CUPEno3.csv', low_memory=False)\n",
    "\n",
    "\n",
    "\n",
    "\n",
    "dfARIK['surfWaterNitrateAvg'] = pd.to_numeric(dfARIK['surfWaterNitrateAvg'], errors='coerce')\n",
    "dfHOPB['surfWaterNitrateAvg'] = pd.to_numeric(dfHOPB['surfWaterNitrateAvg'], errors='coerce')\n",
    "dfGUIL['surfWaterNitrateAvg'] = pd.to_numeric(dfGUIL['surfWaterNitrateAvg'], errors='coerce')\n",
    "dfCUPE['surfWaterNitrateAvg'] = pd.to_numeric(dfCUPE['surfWaterNitrateAvg'], errors='coerce')\n",
    "\n",
    "\n",
    "# dfARIK['surfWaterNitrateNrml'] = min_max_scaler.fit_transform(dfARIK['surfWaterNitrateAvg'])\n",
    "# dfHOPB['surfWaterNitrateNrml'] = min_max_scaler.fit_transform(dfHOPB['surfWaterNitrateAvg'])\n",
    "# dfGUIL['surfWaterNitrateNrml'] = min_max_scaler.fit_transform(dfGUIL['surfWaterNitrateAvg'])\n",
    "# dfCUPE['surfWaterNitrateNrml'] = min_max_scaler.fit_transform(dfCUPE['surfWaterNitrateAvg'])\n",
    "dfARIK['surfWaterNitrateNrml'] =(dfARIK['surfWaterNitrateAvg']-\n",
    "                                            dfARIK['surfWaterNitrateAvg'].mean()\n",
    "                                            )/dfARIK['surfWaterNitrateAvg'].std()\n",
    "dfHOPB['surfWaterNitrateNrml'] =(dfHOPB['surfWaterNitrateAvg']-\n",
    "                                            dfHOPB['surfWaterNitrateAvg'].mean()\n",
    "                                            )/dfHOPB['surfWaterNitrateAvg'].std()\n",
    "dfGUIL['surfWaterNitrateNrml'] =(dfGUIL['surfWaterNitrateAvg']-\n",
    "                                            dfGUIL['surfWaterNitrateAvg'].mean()\n",
    "                                            )/dfGUIL['surfWaterNitrateAvg'].std()\n",
    "dfCUPE['surfWaterNitrateNrml'] =(dfCUPE['surfWaterNitrateAvg']-\n",
    "                                            dfCUPE['surfWaterNitrateAvg'].mean()\n",
    "                                            )/dfCUPE['surfWaterNitrateAvg'].std()\n",
    "\n",
    "data_frames = [dfARIK, dfHOPB, dfGUIL,dfCUPE,dfARIKst, dfHOPBst, dfGUILst,dfCUPEst]\n",
    "df_merged = pd.concat(data_frames,sort=True)\n",
    "\n",
    "data_frames = [dfARIK,dfARIKst]\n",
    "dfARIK = pd.concat(data_frames,sort=True)\n",
    "\n",
    "data_frames = [dfHOPB,dfHOPBst]\n",
    "dfHOPB = pd.concat(data_frames,sort=True)\n",
    "\n",
    "data_frames = [dfGUIL,dfGUILst]\n",
    "dfGUIL = pd.concat(data_frames,sort=True)\n",
    "\n",
    "data_frames = [dfCUPE,dfCUPEst]\n",
    "dfCUPE = pd.concat(data_frames,sort=True)\n",
    "\n",
    "print(df_merged['color'].unique())\n",
    "# print(str(df_merged['surfWaterNitrateAvg_y'].mean()) + ' y Mean nitrate')\n",
    "# fig = px.scatter(df_merged, x='DateTime', y=['surfWaterNitrateNrml', 'surfWaterWaterElevationNrml'], color='site',opacity=0.5,  marginal_y=\"box\",\n",
    "#                  title='Mean nitrate micromoles per liter and surface water elevation m ')\n",
    "# fig.show()\n"
   ]
  }
 ],
 "metadata": {
  "kernelspec": {
   "display_name": "Python 3",
   "language": "python",
   "name": "python3"
  },
  "language_info": {
   "codemirror_mode": {
    "name": "ipython",
    "version": 3
   },
   "file_extension": ".py",
   "mimetype": "text/x-python",
   "name": "python",
   "nbconvert_exporter": "python",
   "pygments_lexer": "ipython3",
   "version": "3.7.3"
  }
 },
 "nbformat": 4,
 "nbformat_minor": 4
}
